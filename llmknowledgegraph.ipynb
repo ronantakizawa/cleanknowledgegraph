{
  "cells": [
    {
      "cell_type": "markdown",
      "metadata": {
        "id": "IB1UpfzHtk6w"
      },
      "source": [
        "# Introduction / Setup\n",
        "\n",
        "This notebook shows how to use LangChain's [`LLMGraphTransformer`](https://python.langchain.com/docs/use_cases/graph/constructing/#llm-graph-transformer) to extract knowledge triples and store them in [DataStax AstraDB](https://www.datastax.com/products/datastax-astra)."
      ]
    },
    {
      "cell_type": "code",
      "source": [
        "!python3 --version"
      ],
      "metadata": {
        "id": "7Mp5f5Sl104-",
        "colab": {
          "base_uri": "https://localhost:8080/"
        },
        "outputId": "7a6e33d0-0588-4631-9ef0-34adca8d0fb0"
      },
      "execution_count": null,
      "outputs": [
        {
          "output_type": "stream",
          "name": "stdout",
          "text": [
            "Python 3.10.12\n"
          ]
        }
      ]
    },
    {
      "cell_type": "code",
      "execution_count": null,
      "metadata": {
        "id": "SvZ0hnQctk6x"
      },
      "outputs": [],
      "source": [
        "# (Optional) When developing locally, this reloads the module code when changes are made,\n",
        "# making it easier to iterate.\n",
        "%load_ext autoreload\n",
        "%autoreload 2"
      ]
    },
    {
      "cell_type": "code",
      "execution_count": null,
      "metadata": {
        "id": "ct9rxVRotk6y",
        "colab": {
          "base_uri": "https://localhost:8080/"
        },
        "collapsed": true,
        "outputId": "5c67e70b-4485-497b-db0e-b4cf12f414ca"
      },
      "outputs": [
        {
          "output_type": "stream",
          "name": "stdout",
          "text": [
            "Collecting https://github.com/datastax-labs/knowledge-graphs-langchain/archive/main.zip\n",
            "  Downloading https://github.com/datastax-labs/knowledge-graphs-langchain/archive/main.zip\n",
            "\u001b[2K     \u001b[32m\\\u001b[0m \u001b[32m109.6 kB\u001b[0m \u001b[31m827.3 kB/s\u001b[0m \u001b[33m0:00:00\u001b[0m\n",
            "\u001b[?25h  Installing build dependencies ... \u001b[?25l\u001b[?25hdone\n",
            "  Getting requirements to build wheel ... \u001b[?25l\u001b[?25hdone\n",
            "  Preparing metadata (pyproject.toml) ... \u001b[?25l\u001b[?25hdone\n",
            "Collecting cassio<0.2.0,>=0.1.5 (from knowledge-graph==0.1.0)\n",
            "  Downloading cassio-0.1.7-py3-none-any.whl (44 kB)\n",
            "\u001b[2K     \u001b[90m━━━━━━━━━━━━━━━━━━━━━━━━━━━━━━━━━━━━━━━━\u001b[0m \u001b[32m44.9/44.9 kB\u001b[0m \u001b[31m1.4 MB/s\u001b[0m eta \u001b[36m0:00:00\u001b[0m\n",
            "\u001b[?25hRequirement already satisfied: graphviz<0.21.0,>=0.20.3 in /usr/local/lib/python3.10/dist-packages (from knowledge-graph==0.1.0) (0.20.3)\n",
            "Collecting langchain<0.2.0,>=0.1.14 (from knowledge-graph==0.1.0)\n",
            "  Downloading langchain-0.1.20-py3-none-any.whl (1.0 MB)\n",
            "\u001b[2K     \u001b[90m━━━━━━━━━━━━━━━━━━━━━━━━━━━━━━━━━━━━━━━━\u001b[0m \u001b[32m1.0/1.0 MB\u001b[0m \u001b[31m14.0 MB/s\u001b[0m eta \u001b[36m0:00:00\u001b[0m\n",
            "\u001b[?25hCollecting langchain-community<0.0.32,>=0.0.31 (from knowledge-graph==0.1.0)\n",
            "  Downloading langchain_community-0.0.31-py3-none-any.whl (1.9 MB)\n",
            "\u001b[2K     \u001b[90m━━━━━━━━━━━━━━━━━━━━━━━━━━━━━━━━━━━━━━━━\u001b[0m \u001b[32m1.9/1.9 MB\u001b[0m \u001b[31m51.4 MB/s\u001b[0m eta \u001b[36m0:00:00\u001b[0m\n",
            "\u001b[?25hCollecting langchain-experimental<0.0.57,>=0.0.56 (from knowledge-graph==0.1.0)\n",
            "  Downloading langchain_experimental-0.0.56-py3-none-any.whl (194 kB)\n",
            "\u001b[2K     \u001b[90m━━━━━━━━━━━━━━━━━━━━━━━━━━━━━━━━━━━━━━━━\u001b[0m \u001b[32m194.1/194.1 kB\u001b[0m \u001b[31m27.7 MB/s\u001b[0m eta \u001b[36m0:00:00\u001b[0m\n",
            "\u001b[?25hCollecting langchain-openai<0.2.0,>=0.1.1 (from knowledge-graph==0.1.0)\n",
            "  Downloading langchain_openai-0.1.7-py3-none-any.whl (34 kB)\n",
            "Collecting pydantic-yaml<2.0.0,>=1.3.0 (from knowledge-graph==0.1.0)\n",
            "  Downloading pydantic_yaml-1.3.0-py3-none-any.whl (17 kB)\n",
            "Requirement already satisfied: pyyaml<7.0.0,>=6.0.1 in /usr/local/lib/python3.10/dist-packages (from knowledge-graph==0.1.0) (6.0.1)\n",
            "Collecting cassandra-driver<4.0.0,>=3.28.0 (from cassio<0.2.0,>=0.1.5->knowledge-graph==0.1.0)\n",
            "  Downloading cassandra_driver-3.29.1-cp310-cp310-manylinux_2_17_x86_64.manylinux2014_x86_64.whl (18.9 MB)\n",
            "\u001b[2K     \u001b[90m━━━━━━━━━━━━━━━━━━━━━━━━━━━━━━━━━━━━━━━━\u001b[0m \u001b[32m18.9/18.9 MB\u001b[0m \u001b[31m71.6 MB/s\u001b[0m eta \u001b[36m0:00:00\u001b[0m\n",
            "\u001b[?25hRequirement already satisfied: numpy>=1.0 in /usr/local/lib/python3.10/dist-packages (from cassio<0.2.0,>=0.1.5->knowledge-graph==0.1.0) (1.25.2)\n",
            "Requirement already satisfied: requests<3.0.0,>=2.31.0 in /usr/local/lib/python3.10/dist-packages (from cassio<0.2.0,>=0.1.5->knowledge-graph==0.1.0) (2.31.0)\n",
            "Requirement already satisfied: SQLAlchemy<3,>=1.4 in /usr/local/lib/python3.10/dist-packages (from langchain<0.2.0,>=0.1.14->knowledge-graph==0.1.0) (2.0.30)\n",
            "Requirement already satisfied: aiohttp<4.0.0,>=3.8.3 in /usr/local/lib/python3.10/dist-packages (from langchain<0.2.0,>=0.1.14->knowledge-graph==0.1.0) (3.9.5)\n",
            "Requirement already satisfied: async-timeout<5.0.0,>=4.0.0 in /usr/local/lib/python3.10/dist-packages (from langchain<0.2.0,>=0.1.14->knowledge-graph==0.1.0) (4.0.3)\n",
            "Collecting dataclasses-json<0.7,>=0.5.7 (from langchain<0.2.0,>=0.1.14->knowledge-graph==0.1.0)\n",
            "  Downloading dataclasses_json-0.6.6-py3-none-any.whl (28 kB)\n",
            "INFO: pip is looking at multiple versions of langchain to determine which version is compatible with other requirements. This could take a while.\n",
            "Collecting langchain<0.2.0,>=0.1.14 (from knowledge-graph==0.1.0)\n",
            "  Downloading langchain-0.1.19-py3-none-any.whl (1.0 MB)\n",
            "\u001b[2K     \u001b[90m━━━━━━━━━━━━━━━━━━━━━━━━━━━━━━━━━━━━━━━━\u001b[0m \u001b[32m1.0/1.0 MB\u001b[0m \u001b[31m73.0 MB/s\u001b[0m eta \u001b[36m0:00:00\u001b[0m\n",
            "\u001b[?25h  Downloading langchain-0.1.17-py3-none-any.whl (867 kB)\n",
            "\u001b[2K     \u001b[90m━━━━━━━━━━━━━━━━━━━━━━━━━━━━━━━━━━━━━━━━\u001b[0m \u001b[32m867.6/867.6 kB\u001b[0m \u001b[31m62.4 MB/s\u001b[0m eta \u001b[36m0:00:00\u001b[0m\n",
            "\u001b[?25hCollecting jsonpatch<2.0,>=1.33 (from langchain<0.2.0,>=0.1.14->knowledge-graph==0.1.0)\n",
            "  Downloading jsonpatch-1.33-py2.py3-none-any.whl (12 kB)\n",
            "Collecting langchain<0.2.0,>=0.1.14 (from knowledge-graph==0.1.0)\n",
            "  Downloading langchain-0.1.16-py3-none-any.whl (817 kB)\n",
            "\u001b[2K     \u001b[90m━━━━━━━━━━━━━━━━━━━━━━━━━━━━━━━━━━━━━━━━\u001b[0m \u001b[32m817.7/817.7 kB\u001b[0m \u001b[31m52.9 MB/s\u001b[0m eta \u001b[36m0:00:00\u001b[0m\n",
            "\u001b[?25h  Downloading langchain-0.1.15-py3-none-any.whl (814 kB)\n",
            "\u001b[2K     \u001b[90m━━━━━━━━━━━━━━━━━━━━━━━━━━━━━━━━━━━━━━━━\u001b[0m \u001b[32m814.5/814.5 kB\u001b[0m \u001b[31m50.1 MB/s\u001b[0m eta \u001b[36m0:00:00\u001b[0m\n",
            "\u001b[?25h  Downloading langchain-0.1.14-py3-none-any.whl (812 kB)\n",
            "\u001b[2K     \u001b[90m━━━━━━━━━━━━━━━━━━━━━━━━━━━━━━━━━━━━━━━━\u001b[0m \u001b[32m812.8/812.8 kB\u001b[0m \u001b[31m47.2 MB/s\u001b[0m eta \u001b[36m0:00:00\u001b[0m\n",
            "\u001b[?25hCollecting langchain-core<0.2.0,>=0.1.37 (from langchain<0.2.0,>=0.1.14->knowledge-graph==0.1.0)\n",
            "  Downloading langchain_core-0.1.52-py3-none-any.whl (302 kB)\n",
            "\u001b[2K     \u001b[90m━━━━━━━━━━━━━━━━━━━━━━━━━━━━━━━━━━━━━━━━\u001b[0m \u001b[32m302.9/302.9 kB\u001b[0m \u001b[31m34.0 MB/s\u001b[0m eta \u001b[36m0:00:00\u001b[0m\n",
            "\u001b[?25hCollecting langchain-text-splitters<0.1,>=0.0.1 (from langchain<0.2.0,>=0.1.14->knowledge-graph==0.1.0)\n",
            "  Downloading langchain_text_splitters-0.0.2-py3-none-any.whl (23 kB)\n",
            "Collecting langsmith<0.2.0,>=0.1.17 (from langchain<0.2.0,>=0.1.14->knowledge-graph==0.1.0)\n",
            "  Downloading langsmith-0.1.63-py3-none-any.whl (122 kB)\n",
            "\u001b[2K     \u001b[90m━━━━━━━━━━━━━━━━━━━━━━━━━━━━━━━━━━━━━━━━\u001b[0m \u001b[32m122.8/122.8 kB\u001b[0m \u001b[31m15.0 MB/s\u001b[0m eta \u001b[36m0:00:00\u001b[0m\n",
            "\u001b[?25hRequirement already satisfied: pydantic<3,>=1 in /usr/local/lib/python3.10/dist-packages (from langchain<0.2.0,>=0.1.14->knowledge-graph==0.1.0) (2.7.1)\n",
            "Requirement already satisfied: tenacity<9.0.0,>=8.1.0 in /usr/local/lib/python3.10/dist-packages (from langchain<0.2.0,>=0.1.14->knowledge-graph==0.1.0) (8.3.0)\n",
            "Collecting openai<2.0.0,>=1.24.0 (from langchain-openai<0.2.0,>=0.1.1->knowledge-graph==0.1.0)\n",
            "  Downloading openai-1.30.3-py3-none-any.whl (320 kB)\n",
            "\u001b[2K     \u001b[90m━━━━━━━━━━━━━━━━━━━━━━━━━━━━━━━━━━━━━━━━\u001b[0m \u001b[32m320.6/320.6 kB\u001b[0m \u001b[31m30.8 MB/s\u001b[0m eta \u001b[36m0:00:00\u001b[0m\n",
            "\u001b[?25hCollecting tiktoken<1,>=0.7 (from langchain-openai<0.2.0,>=0.1.1->knowledge-graph==0.1.0)\n",
            "  Downloading tiktoken-0.7.0-cp310-cp310-manylinux_2_17_x86_64.manylinux2014_x86_64.whl (1.1 MB)\n",
            "\u001b[2K     \u001b[90m━━━━━━━━━━━━━━━━━━━━━━━━━━━━━━━━━━━━━━━━\u001b[0m \u001b[32m1.1/1.1 MB\u001b[0m \u001b[31m50.2 MB/s\u001b[0m eta \u001b[36m0:00:00\u001b[0m\n",
            "\u001b[?25hCollecting ruamel.yaml<0.19.0,>=0.16.0 (from pydantic-yaml<2.0.0,>=1.3.0->knowledge-graph==0.1.0)\n",
            "  Downloading ruamel.yaml-0.18.6-py3-none-any.whl (117 kB)\n",
            "\u001b[2K     \u001b[90m━━━━━━━━━━━━━━━━━━━━━━━━━━━━━━━━━━━━━━━━\u001b[0m \u001b[32m117.8/117.8 kB\u001b[0m \u001b[31m19.2 MB/s\u001b[0m eta \u001b[36m0:00:00\u001b[0m\n",
            "\u001b[?25hRequirement already satisfied: importlib-metadata in /usr/local/lib/python3.10/dist-packages (from pydantic-yaml<2.0.0,>=1.3.0->knowledge-graph==0.1.0) (7.1.0)\n",
            "Requirement already satisfied: typing-extensions>=4.5.0 in /usr/local/lib/python3.10/dist-packages (from pydantic-yaml<2.0.0,>=1.3.0->knowledge-graph==0.1.0) (4.11.0)\n",
            "Requirement already satisfied: aiosignal>=1.1.2 in /usr/local/lib/python3.10/dist-packages (from aiohttp<4.0.0,>=3.8.3->langchain<0.2.0,>=0.1.14->knowledge-graph==0.1.0) (1.3.1)\n",
            "Requirement already satisfied: attrs>=17.3.0 in /usr/local/lib/python3.10/dist-packages (from aiohttp<4.0.0,>=3.8.3->langchain<0.2.0,>=0.1.14->knowledge-graph==0.1.0) (23.2.0)\n",
            "Requirement already satisfied: frozenlist>=1.1.1 in /usr/local/lib/python3.10/dist-packages (from aiohttp<4.0.0,>=3.8.3->langchain<0.2.0,>=0.1.14->knowledge-graph==0.1.0) (1.4.1)\n",
            "Requirement already satisfied: multidict<7.0,>=4.5 in /usr/local/lib/python3.10/dist-packages (from aiohttp<4.0.0,>=3.8.3->langchain<0.2.0,>=0.1.14->knowledge-graph==0.1.0) (6.0.5)\n",
            "Requirement already satisfied: yarl<2.0,>=1.0 in /usr/local/lib/python3.10/dist-packages (from aiohttp<4.0.0,>=3.8.3->langchain<0.2.0,>=0.1.14->knowledge-graph==0.1.0) (1.9.4)\n",
            "Collecting geomet<0.3,>=0.1 (from cassandra-driver<4.0.0,>=3.28.0->cassio<0.2.0,>=0.1.5->knowledge-graph==0.1.0)\n",
            "  Downloading geomet-0.2.1.post1-py3-none-any.whl (18 kB)\n",
            "Collecting marshmallow<4.0.0,>=3.18.0 (from dataclasses-json<0.7,>=0.5.7->langchain<0.2.0,>=0.1.14->knowledge-graph==0.1.0)\n",
            "  Downloading marshmallow-3.21.2-py3-none-any.whl (49 kB)\n",
            "\u001b[2K     \u001b[90m━━━━━━━━━━━━━━━━━━━━━━━━━━━━━━━━━━━━━━━━\u001b[0m \u001b[32m49.3/49.3 kB\u001b[0m \u001b[31m7.9 MB/s\u001b[0m eta \u001b[36m0:00:00\u001b[0m\n",
            "\u001b[?25hCollecting typing-inspect<1,>=0.4.0 (from dataclasses-json<0.7,>=0.5.7->langchain<0.2.0,>=0.1.14->knowledge-graph==0.1.0)\n",
            "  Downloading typing_inspect-0.9.0-py3-none-any.whl (8.8 kB)\n",
            "Collecting jsonpointer>=1.9 (from jsonpatch<2.0,>=1.33->langchain<0.2.0,>=0.1.14->knowledge-graph==0.1.0)\n",
            "  Downloading jsonpointer-2.4-py2.py3-none-any.whl (7.8 kB)\n",
            "Collecting packaging<24.0,>=23.2 (from langchain-core<0.2.0,>=0.1.37->langchain<0.2.0,>=0.1.14->knowledge-graph==0.1.0)\n",
            "  Downloading packaging-23.2-py3-none-any.whl (53 kB)\n",
            "\u001b[2K     \u001b[90m━━━━━━━━━━━━━━━━━━━━━━━━━━━━━━━━━━━━━━━━\u001b[0m \u001b[32m53.0/53.0 kB\u001b[0m \u001b[31m9.0 MB/s\u001b[0m eta \u001b[36m0:00:00\u001b[0m\n",
            "\u001b[?25hCollecting orjson<4.0.0,>=3.9.14 (from langsmith<0.2.0,>=0.1.17->langchain<0.2.0,>=0.1.14->knowledge-graph==0.1.0)\n",
            "  Downloading orjson-3.10.3-cp310-cp310-manylinux_2_17_x86_64.manylinux2014_x86_64.whl (142 kB)\n",
            "\u001b[2K     \u001b[90m━━━━━━━━━━━━━━━━━━━━━━━━━━━━━━━━━━━━━━━━\u001b[0m \u001b[32m142.5/142.5 kB\u001b[0m \u001b[31m22.9 MB/s\u001b[0m eta \u001b[36m0:00:00\u001b[0m\n",
            "\u001b[?25hRequirement already satisfied: anyio<5,>=3.5.0 in /usr/local/lib/python3.10/dist-packages (from openai<2.0.0,>=1.24.0->langchain-openai<0.2.0,>=0.1.1->knowledge-graph==0.1.0) (3.7.1)\n",
            "Requirement already satisfied: distro<2,>=1.7.0 in /usr/lib/python3/dist-packages (from openai<2.0.0,>=1.24.0->langchain-openai<0.2.0,>=0.1.1->knowledge-graph==0.1.0) (1.7.0)\n",
            "Collecting httpx<1,>=0.23.0 (from openai<2.0.0,>=1.24.0->langchain-openai<0.2.0,>=0.1.1->knowledge-graph==0.1.0)\n",
            "  Downloading httpx-0.27.0-py3-none-any.whl (75 kB)\n",
            "\u001b[2K     \u001b[90m━━━━━━━━━━━━━━━━━━━━━━━━━━━━━━━━━━━━━━━━\u001b[0m \u001b[32m75.6/75.6 kB\u001b[0m \u001b[31m12.5 MB/s\u001b[0m eta \u001b[36m0:00:00\u001b[0m\n",
            "\u001b[?25hRequirement already satisfied: sniffio in /usr/local/lib/python3.10/dist-packages (from openai<2.0.0,>=1.24.0->langchain-openai<0.2.0,>=0.1.1->knowledge-graph==0.1.0) (1.3.1)\n",
            "Requirement already satisfied: tqdm>4 in /usr/local/lib/python3.10/dist-packages (from openai<2.0.0,>=1.24.0->langchain-openai<0.2.0,>=0.1.1->knowledge-graph==0.1.0) (4.66.4)\n",
            "Requirement already satisfied: annotated-types>=0.4.0 in /usr/local/lib/python3.10/dist-packages (from pydantic<3,>=1->langchain<0.2.0,>=0.1.14->knowledge-graph==0.1.0) (0.7.0)\n",
            "Requirement already satisfied: pydantic-core==2.18.2 in /usr/local/lib/python3.10/dist-packages (from pydantic<3,>=1->langchain<0.2.0,>=0.1.14->knowledge-graph==0.1.0) (2.18.2)\n",
            "Requirement already satisfied: charset-normalizer<4,>=2 in /usr/local/lib/python3.10/dist-packages (from requests<3.0.0,>=2.31.0->cassio<0.2.0,>=0.1.5->knowledge-graph==0.1.0) (3.3.2)\n",
            "Requirement already satisfied: idna<4,>=2.5 in /usr/local/lib/python3.10/dist-packages (from requests<3.0.0,>=2.31.0->cassio<0.2.0,>=0.1.5->knowledge-graph==0.1.0) (3.7)\n",
            "Requirement already satisfied: urllib3<3,>=1.21.1 in /usr/local/lib/python3.10/dist-packages (from requests<3.0.0,>=2.31.0->cassio<0.2.0,>=0.1.5->knowledge-graph==0.1.0) (2.0.7)\n",
            "Requirement already satisfied: certifi>=2017.4.17 in /usr/local/lib/python3.10/dist-packages (from requests<3.0.0,>=2.31.0->cassio<0.2.0,>=0.1.5->knowledge-graph==0.1.0) (2024.2.2)\n",
            "Collecting ruamel.yaml.clib>=0.2.7 (from ruamel.yaml<0.19.0,>=0.16.0->pydantic-yaml<2.0.0,>=1.3.0->knowledge-graph==0.1.0)\n",
            "  Downloading ruamel.yaml.clib-0.2.8-cp310-cp310-manylinux_2_17_x86_64.manylinux2014_x86_64.manylinux_2_24_x86_64.whl (526 kB)\n",
            "\u001b[2K     \u001b[90m━━━━━━━━━━━━━━━━━━━━━━━━━━━━━━━━━━━━━━━━\u001b[0m \u001b[32m526.7/526.7 kB\u001b[0m \u001b[31m50.2 MB/s\u001b[0m eta \u001b[36m0:00:00\u001b[0m\n",
            "\u001b[?25hRequirement already satisfied: greenlet!=0.4.17 in /usr/local/lib/python3.10/dist-packages (from SQLAlchemy<3,>=1.4->langchain<0.2.0,>=0.1.14->knowledge-graph==0.1.0) (3.0.3)\n",
            "Requirement already satisfied: regex>=2022.1.18 in /usr/local/lib/python3.10/dist-packages (from tiktoken<1,>=0.7->langchain-openai<0.2.0,>=0.1.1->knowledge-graph==0.1.0) (2023.12.25)\n",
            "Requirement already satisfied: zipp>=0.5 in /usr/local/lib/python3.10/dist-packages (from importlib-metadata->pydantic-yaml<2.0.0,>=1.3.0->knowledge-graph==0.1.0) (3.18.2)\n",
            "Requirement already satisfied: exceptiongroup in /usr/local/lib/python3.10/dist-packages (from anyio<5,>=3.5.0->openai<2.0.0,>=1.24.0->langchain-openai<0.2.0,>=0.1.1->knowledge-graph==0.1.0) (1.2.1)\n",
            "Requirement already satisfied: click in /usr/local/lib/python3.10/dist-packages (from geomet<0.3,>=0.1->cassandra-driver<4.0.0,>=3.28.0->cassio<0.2.0,>=0.1.5->knowledge-graph==0.1.0) (8.1.7)\n",
            "Requirement already satisfied: six in /usr/local/lib/python3.10/dist-packages (from geomet<0.3,>=0.1->cassandra-driver<4.0.0,>=3.28.0->cassio<0.2.0,>=0.1.5->knowledge-graph==0.1.0) (1.16.0)\n",
            "Collecting httpcore==1.* (from httpx<1,>=0.23.0->openai<2.0.0,>=1.24.0->langchain-openai<0.2.0,>=0.1.1->knowledge-graph==0.1.0)\n",
            "  Downloading httpcore-1.0.5-py3-none-any.whl (77 kB)\n",
            "\u001b[2K     \u001b[90m━━━━━━━━━━━━━━━━━━━━━━━━━━━━━━━━━━━━━━━━\u001b[0m \u001b[32m77.9/77.9 kB\u001b[0m \u001b[31m13.6 MB/s\u001b[0m eta \u001b[36m0:00:00\u001b[0m\n",
            "\u001b[?25hCollecting h11<0.15,>=0.13 (from httpcore==1.*->httpx<1,>=0.23.0->openai<2.0.0,>=1.24.0->langchain-openai<0.2.0,>=0.1.1->knowledge-graph==0.1.0)\n",
            "  Downloading h11-0.14.0-py3-none-any.whl (58 kB)\n",
            "\u001b[2K     \u001b[90m━━━━━━━━━━━━━━━━━━━━━━━━━━━━━━━━━━━━━━━━\u001b[0m \u001b[32m58.3/58.3 kB\u001b[0m \u001b[31m9.8 MB/s\u001b[0m eta \u001b[36m0:00:00\u001b[0m\n",
            "\u001b[?25hCollecting mypy-extensions>=0.3.0 (from typing-inspect<1,>=0.4.0->dataclasses-json<0.7,>=0.5.7->langchain<0.2.0,>=0.1.14->knowledge-graph==0.1.0)\n",
            "  Downloading mypy_extensions-1.0.0-py3-none-any.whl (4.7 kB)\n",
            "Building wheels for collected packages: knowledge-graph\n",
            "  Building wheel for knowledge-graph (pyproject.toml) ... \u001b[?25l\u001b[?25hdone\n",
            "  Created wheel for knowledge-graph: filename=knowledge_graph-0.1.0-py3-none-any.whl size=17348 sha256=6f74f354b89fa2ce9c2b189a854d03d8ce92c64d85cca728fd9cf984b72f582f\n",
            "  Stored in directory: /tmp/pip-ephem-wheel-cache-o9auswqm/wheels/9e/bd/f6/212ee306bde8b1b10eb9e4d78cd6abaf5dddc926cc723424df\n",
            "Successfully built knowledge-graph\n",
            "Installing collected packages: ruamel.yaml.clib, packaging, orjson, mypy-extensions, jsonpointer, h11, geomet, typing-inspect, tiktoken, ruamel.yaml, marshmallow, jsonpatch, httpcore, cassandra-driver, pydantic-yaml, langsmith, httpx, dataclasses-json, cassio, openai, langchain-core, langchain-text-splitters, langchain-openai, langchain-community, langchain, langchain-experimental, knowledge-graph\n",
            "  Attempting uninstall: packaging\n",
            "    Found existing installation: packaging 24.0\n",
            "    Uninstalling packaging-24.0:\n",
            "      Successfully uninstalled packaging-24.0\n",
            "Successfully installed cassandra-driver-3.29.1 cassio-0.1.7 dataclasses-json-0.6.6 geomet-0.2.1.post1 h11-0.14.0 httpcore-1.0.5 httpx-0.27.0 jsonpatch-1.33 jsonpointer-2.4 knowledge-graph-0.1.0 langchain-0.1.14 langchain-community-0.0.31 langchain-core-0.1.52 langchain-experimental-0.0.56 langchain-openai-0.1.7 langchain-text-splitters-0.0.2 langsmith-0.1.63 marshmallow-3.21.2 mypy-extensions-1.0.0 openai-1.30.3 orjson-3.10.3 packaging-23.2 pydantic-yaml-1.3.0 ruamel.yaml-0.18.6 ruamel.yaml.clib-0.2.8 tiktoken-0.7.0 typing-inspect-0.9.0\n"
          ]
        }
      ],
      "source": [
        "# (Required in Colab) Install the knowledge graph library from the repository.\n",
        "# This will also install the dependencies.\n",
        "%pip install https://github.com/datastax-labs/knowledge-graphs-langchain/archive/main.zip"
      ]
    },
    {
      "cell_type": "markdown",
      "metadata": {
        "id": "yKnxtlVstk6y"
      },
      "source": [
        "## Environment\n",
        "Pick one of the following.\n",
        "1. If you're just running the notebook, it's probably best to run the cell using `getpass` to set the necessary\n",
        "   environment variables.\n",
        "1. If you're developing, it's likely easiest to create a `.env` file and store the necessary credentials."
      ]
    },
    {
      "cell_type": "code",
      "execution_count": null,
      "metadata": {
        "id": "_wa_C_iVtk6y",
        "colab": {
          "base_uri": "https://localhost:8080/"
        },
        "outputId": "985e9945-1db9-47e5-a916-137d1958d212"
      },
      "outputs": [
        {
          "name": "stdout",
          "output_type": "stream",
          "text": [
            "Enter OpenAI API Key: ··········\n",
            "Enter Astra DB Database ID: 956bf68d-4b5d-46be-ae16-2bc3d49f1fce\n",
            "Enter Astra DB Application Token: ··········\n",
            "Enter Astra DB Keyspace (Empty for default): \n"
          ]
        }
      ],
      "source": [
        "# (Option 1) - Set the environment variables from getpass.\n",
        "import getpass\n",
        "import os\n",
        "\n",
        "os.environ[\"OPENAI_API_KEY\"] = getpass.getpass(\"Enter OpenAI API Key: \")\n",
        "os.environ[\"ASTRA_DB_DATABASE_ID\"] = input(\"Enter Astra DB Database ID: \")\n",
        "os.environ[\"ASTRA_DB_APPLICATION_TOKEN\"] = getpass.getpass(\"Enter Astra DB Application Token: \")\n",
        "\n",
        "keyspace = input(\"Enter Astra DB Keyspace (Empty for default): \")\n",
        "if keyspace:\n",
        "    os.environ[\"ASTRA_DB_KEYSPACE\"] = keyspace\n",
        "else:\n",
        "    os.environ.pop(\"ASTRA_DB_KEYSPACE\", None)"
      ]
    },
    {
      "cell_type": "code",
      "execution_count": null,
      "metadata": {
        "id": "tJta8hPDtk6y",
        "outputId": "271b1d02-a5b7-489b-b86d-deedf6add059",
        "colab": {
          "base_uri": "https://localhost:8080/"
        }
      },
      "outputs": [
        {
          "output_type": "stream",
          "name": "stdout",
          "text": [
            "Collecting python-dotenv\n",
            "  Downloading python_dotenv-1.0.1-py3-none-any.whl (19 kB)\n",
            "Installing collected packages: python-dotenv\n",
            "Successfully installed python-dotenv-1.0.1\n"
          ]
        },
        {
          "output_type": "execute_result",
          "data": {
            "text/plain": [
              "False"
            ]
          },
          "metadata": {},
          "execution_count": 5
        }
      ],
      "source": [
        "# (Option 2) - Load the `.env` file.\n",
        "# See `env.template` for an example of what you should have there.\n",
        "%pip install python-dotenv\n",
        "import dotenv\n",
        "dotenv.load_dotenv()"
      ]
    },
    {
      "cell_type": "markdown",
      "metadata": {
        "id": "r1Dphs6Vtk6z"
      },
      "source": [
        "## Initialize Astra DB / Cassandra"
      ]
    },
    {
      "cell_type": "code",
      "execution_count": null,
      "metadata": {
        "id": "J89TXK4Ytk6z",
        "colab": {
          "base_uri": "https://localhost:8080/"
        },
        "outputId": "25e959bf-b552-4e79-ddf0-b1083b478dc7"
      },
      "outputs": [
        {
          "output_type": "stream",
          "name": "stderr",
          "text": [
            "WARNING:cassandra.cluster:Downgrading core protocol version from 66 to 65 for 956bf68d-4b5d-46be-ae16-2bc3d49f1fce-us-east-2.db.astra.datastax.com:29042:da337f5a-b9d1-4c81-b30e-fdbfcbe049ac. To avoid this, it is best practice to explicitly set Cluster(protocol_version) to the version supported by your cluster. http://datastax.github.io/python-driver/api/cassandra/cluster.html#cassandra.cluster.Cluster.protocol_version\n",
            "WARNING:cassandra.cluster:Downgrading core protocol version from 65 to 5 for 956bf68d-4b5d-46be-ae16-2bc3d49f1fce-us-east-2.db.astra.datastax.com:29042:da337f5a-b9d1-4c81-b30e-fdbfcbe049ac. To avoid this, it is best practice to explicitly set Cluster(protocol_version) to the version supported by your cluster. http://datastax.github.io/python-driver/api/cassandra/cluster.html#cassandra.cluster.Cluster.protocol_version\n",
            "ERROR:cassandra.connection:Closing connection <LibevConnection(140601811921616) 956bf68d-4b5d-46be-ae16-2bc3d49f1fce-us-east-2.db.astra.datastax.com:29042:da337f5a-b9d1-4c81-b30e-fdbfcbe049ac> due to protocol error: Error from server: code=000a [Protocol error] message=\"Beta version of the protocol used (5/v5-beta), but USE_BETA flag is unset\"\n",
            "WARNING:cassandra.cluster:Downgrading core protocol version from 5 to 4 for 956bf68d-4b5d-46be-ae16-2bc3d49f1fce-us-east-2.db.astra.datastax.com:29042:da337f5a-b9d1-4c81-b30e-fdbfcbe049ac. To avoid this, it is best practice to explicitly set Cluster(protocol_version) to the version supported by your cluster. http://datastax.github.io/python-driver/api/cassandra/cluster.html#cassandra.cluster.Cluster.protocol_version\n"
          ]
        }
      ],
      "source": [
        "# Initialize cassandra connection from environment variables).\n",
        "import cassio\n",
        "cassio.init(auto=True)"
      ]
    },
    {
      "cell_type": "markdown",
      "metadata": {
        "id": "a7G8bu_etk6z"
      },
      "source": [
        "## Create Graph Store"
      ]
    },
    {
      "cell_type": "code",
      "execution_count": null,
      "metadata": {
        "id": "HypSJrGntk6z"
      },
      "outputs": [],
      "source": [
        "# Create graph store.\n",
        "from knowledge_graph.cassandra_graph_store import CassandraGraphStore\n",
        "graph_store = CassandraGraphStore()"
      ]
    },
    {
      "cell_type": "markdown",
      "metadata": {
        "id": "GnmHG5Wptk6z"
      },
      "source": [
        "# Extracting Knowledge Graph"
      ]
    },
    {
      "cell_type": "code",
      "execution_count": null,
      "metadata": {
        "id": "64S-BsJutk6z"
      },
      "outputs": [],
      "source": [
        "from langchain_experimental.graph_transformers import LLMGraphTransformer\n",
        "from langchain_openai import ChatOpenAI\n",
        "\n",
        "# Prompt used by LLMGraphTransformer is tuned for Gpt4.\n",
        "llm = ChatOpenAI(temperature=0, model_name=\"gpt-4\")\n",
        "\n",
        "llm_transformer = LLMGraphTransformer(llm=llm)"
      ]
    },
    {
      "cell_type": "code",
      "execution_count": 83,
      "metadata": {
        "id": "PflP2dWttk60",
        "outputId": "81a4afbc-2696-494b-98d8-f153011e7698",
        "colab": {
          "base_uri": "https://localhost:8080/"
        }
      },
      "outputs": [
        {
          "output_type": "stream",
          "name": "stdout",
          "text": [
            "Nodes:[Node(id='Sam Altman', type='Person'), Node(id='Openai', type='Organization'), Node(id='Y Combinator', type='Organization'), Node(id='Loopt', type='Product'), Node(id='Green Dot Corporation', type='Organization'), Node(id='Artificial Intelligence', type='Concept'), Node(id='Technology', type='Concept'), Node(id='Innovation', type='Concept'), Node(id='Societal Impact', type='Concept')]\n",
            "Relationships:[Relationship(source=Node(id='Sam Altman', type='Person'), target=Node(id='Openai', type='Organization'), type='CEO'), Relationship(source=Node(id='Sam Altman', type='Person'), target=Node(id='Y Combinator', type='Organization'), type='PRESIDENT'), Relationship(source=Node(id='Sam Altman', type='Person'), target=Node(id='Loopt', type='Product'), type='CO-FOUNDER'), Relationship(source=Node(id='Loopt', type='Product'), target=Node(id='Green Dot Corporation', type='Organization'), type='ACQUIRED_BY'), Relationship(source=Node(id='Openai', type='Organization'), target=Node(id='Artificial Intelligence', type='Concept'), type='ADVANCES'), Relationship(source=Node(id='Sam Altman', type='Person'), target=Node(id='Technology', type='Concept'), type='INVOLVED_IN_DISCUSSIONS'), Relationship(source=Node(id='Sam Altman', type='Person'), target=Node(id='Innovation', type='Concept'), type='INVOLVED_IN_DISCUSSIONS'), Relationship(source=Node(id='Sam Altman', type='Person'), target=Node(id='Societal Impact', type='Concept'), type='INVOLVED_IN_DISCUSSIONS')]\n"
          ]
        }
      ],
      "source": [
        "from langchain_core.documents import Document\n",
        "\n",
        "text = \"\"\"\n",
        "Sam Altman is a prominent entrepreneur, investor, and executive known for his influential role in the tech industry. He is the CEO of OpenAI, an organization dedicated to advancing artificial intelligence in a safe and beneficial manner. Before joining OpenAI, Altman was the president of Y Combinator, a leading startup accelerator that has helped launch numerous successful companies. His career includes co-founding Loopt, a location-based social networking app, which was acquired by Green Dot Corporation. Altman is also known for his investments in various high-profile startups and his active involvement in discussions around technology, innovation, and societal impact.\n",
        "\"\"\"\n",
        "documents = [Document(page_content=text)]\n",
        "graph_documents = llm_transformer.convert_to_graph_documents(documents)\n",
        "print(f\"Nodes:{graph_documents[0].nodes}\")\n",
        "print(f\"Relationships:{graph_documents[0].relationships}\")"
      ]
    },
    {
      "cell_type": "code",
      "execution_count": 84,
      "metadata": {
        "id": "_ojzYn-5tk60"
      },
      "outputs": [],
      "source": [
        "# Save the extracted graph documents to the AstraDB / Cassandra Graph Store.\n",
        "graph_store.add_graph_documents(graph_documents)"
      ]
    },
    {
      "cell_type": "markdown",
      "metadata": {
        "id": "UjKph5NXtk60"
      },
      "source": [
        "### Optional: Predefine entities / relationships\n",
        "\n",
        "The below shows how to configure the `LLMGraphTransformer` with specific kinds of nodes and relationships it is allowed to extract.\n",
        "This is useful for constraining what will be extracted.\n",
        "\n",
        "```python\n",
        "llm_transformer_filtered = LLMGraphTransformer(\n",
        "    llm=llm,\n",
        "    allowed_nodes=[\"Person\", \"Country\", \"Organization\"],\n",
        "    allowed_relationships=[\"NATIONALITY\", \"LOCATED_IN\", \"WORKED_AT\", \"SPOUSE\"],\n",
        ")\n",
        "graph_documents_filtered = llm_transformer_filtered.convert_to_graph_documents(\n",
        "    documents\n",
        ")\n",
        "print(f\"Nodes:{graph_documents_filtered[0].nodes}\")\n",
        "print(f\"Relationships:{graph_documents_filtered[0].relationships}\")\n",
        "```"
      ]
    },
    {
      "cell_type": "markdown",
      "metadata": {
        "id": "i80AMtRptk60"
      },
      "source": [
        "# Querying"
      ]
    },
    {
      "cell_type": "markdown",
      "metadata": {
        "id": "IPrmzd56tk60"
      },
      "source": [
        "We can query the `GraphStore` directly. The `as_runnable` method takes some configuration for how to extract the subgraph and returns a LangChain `Runnable` which can be invoked on a node or sequence of nodes to traverse from those starting points."
      ]
    },
    {
      "cell_type": "code",
      "execution_count": 86,
      "metadata": {
        "id": "2zMckZeBtk60",
        "outputId": "009503aa-0f93-4262-cb67-5f1b96822fd7",
        "colab": {
          "base_uri": "https://localhost:8080/"
        }
      },
      "outputs": [
        {
          "output_type": "execute_result",
          "data": {
            "text/plain": [
              "{Loopt (Product) -> Green Dot Corporation (Organization): ACQUIRED_BY,\n",
              " Openai (Organization) -> Artificial Intelligence (Concept): ADVANCES,\n",
              " Sam Altman (Person) -> Innovation (Concept): INVOLVED_IN_DISCUSSIONS,\n",
              " Sam Altman (Person) -> Loopt (Product): CO-FOUNDER,\n",
              " Sam Altman (Person) -> Openai (Organization): CEO,\n",
              " Sam Altman (Person) -> Societal Impact (Concept): INVOLVED_IN_DISCUSSIONS,\n",
              " Sam Altman (Person) -> Technology (Concept): INVOLVED_IN_DISCUSSIONS,\n",
              " Sam Altman (Person) -> Y Combinator (Organization): PRESIDENT}"
            ]
          },
          "metadata": {},
          "execution_count": 86
        }
      ],
      "source": [
        "from knowledge_graph.traverse import Node\n",
        "\n",
        "graph_store.as_runnable(steps=2).invoke(Node(\"Sam Altman\", \"Person\"))"
      ]
    },
    {
      "cell_type": "markdown",
      "metadata": {
        "id": "To-r-Cp1tk60"
      },
      "source": [
        "For getting started, the library also provides a `Runnable` for extracting the starting entities from a question."
      ]
    },
    {
      "cell_type": "code",
      "execution_count": 88,
      "metadata": {
        "id": "o4F6usYztk60",
        "outputId": "56be218e-288e-49a4-a6be-de66142484c4",
        "colab": {
          "base_uri": "https://localhost:8080/"
        }
      },
      "outputs": [
        {
          "output_type": "execute_result",
          "data": {
            "text/plain": [
              "[Sam Altman (Person)]"
            ]
          },
          "metadata": {},
          "execution_count": 88
        }
      ],
      "source": [
        "# Example showing extracted entities (nodes)\n",
        "from knowledge_graph import extract_entities\n",
        "extract_entities(llm).invoke({ \"question\": \"Who is Sam Altman?\"})"
      ]
    },
    {
      "cell_type": "markdown",
      "metadata": {
        "id": "ziKzMk_htk60"
      },
      "source": [
        "## Query Chain\n",
        "\n",
        "We'll create a chain which does the following:\n",
        "\n",
        "1. Use the entity extraction `Runnable` from the library in order to determine the starting points.\n",
        "2. Retrieve the sub-knowledge graphs starting from those nodes.\n",
        "3. Create a context containing those knowledge triples.\n",
        "4. Apply the LLM to answer the question given the context."
      ]
    },
    {
      "cell_type": "code",
      "execution_count": 89,
      "metadata": {
        "id": "BPBIStU8tk60"
      },
      "outputs": [],
      "source": [
        "from operator import itemgetter\n",
        "from langchain_core.runnables import RunnableLambda, RunnablePassthrough\n",
        "from langchain_core.prompts import ChatPromptTemplate\n",
        "from knowledge_graph import extract_entities\n",
        "from langchain_openai import ChatOpenAI\n",
        "llm = ChatOpenAI(model_name = \"gpt-4\")\n",
        "\n",
        "def _combine_relations(relations):\n",
        "    return \"\\n\".join(map(repr, relations))\n",
        "\n",
        "ANSWER_PROMPT = (\n",
        "    \"The original question is given below.\"\n",
        "    \"This question has been used to retrieve information from a knowledge graph.\"\n",
        "    \"The matching triples are shown below.\"\n",
        "    \"Use the information in the triples to answer the original question.\\n\\n\"\n",
        "    \"Original Question: {question}\\n\\n\"\n",
        "    \"Knowledge Graph Triples:\\n{context}\\n\\n\"\n",
        "    \"Response:\"\n",
        ")\n",
        "\n",
        "chain = (\n",
        "    { \"question\": RunnablePassthrough() }\n",
        "    | RunnablePassthrough.assign(entities = extract_entities(llm))\n",
        "    | RunnablePassthrough.assign(triples = itemgetter(\"entities\") | graph_store.as_runnable())\n",
        "    | RunnablePassthrough.assign(context = itemgetter(\"triples\") | RunnableLambda(_combine_relations))\n",
        "    | ChatPromptTemplate.from_messages([ANSWER_PROMPT])\n",
        "    | llm\n",
        ")"
      ]
    },
    {
      "cell_type": "markdown",
      "metadata": {
        "id": "S8qyEhIOtk60"
      },
      "source": [
        "## Example\n",
        "And finally, we can run the chain end to end to answer a question using the retrieved knowledge."
      ]
    },
    {
      "cell_type": "code",
      "execution_count": 90,
      "metadata": {
        "id": "tsQ2wtMhtk60",
        "outputId": "38bf440e-3934-4553-b413-1b44a92a0c82",
        "colab": {
          "base_uri": "https://localhost:8080/"
        }
      },
      "outputs": [
        {
          "output_type": "execute_result",
          "data": {
            "text/plain": [
              "AIMessage(content='Sam Altman is a person who is involved in discussions about technology, innovation, and societal impact. He is the CEO of Openai, an organization that advances artificial intelligence. He is also the president of Y Combinator and co-founder of a product called Loopt.', response_metadata={'token_usage': {'completion_tokens': 56, 'prompt_tokens': 201, 'total_tokens': 257}, 'model_name': 'gpt-4', 'system_fingerprint': None, 'finish_reason': 'stop', 'logprobs': None}, id='run-922658ee-83e3-4e71-b262-fee78664aa9c-0')"
            ]
          },
          "metadata": {},
          "execution_count": 90
        }
      ],
      "source": [
        "chain.invoke(\"Who is Sam Altman?\")"
      ]
    },
    {
      "cell_type": "code",
      "source": [
        "# Print the nodes and relationships to verify correctness\n",
        "for doc in graph_documents:\n",
        "    print(\"Nodes:\")\n",
        "    for node in doc.nodes:\n",
        "        print(f\"ID: {node.id}, Type: {node.type}\")\n",
        "    print(\"\\nRelationships:\")\n",
        "    for relationship in doc.relationships:\n",
        "        print(f\"Source: {relationship.source}, Target: {relationship.target}, Type: {relationship.type}\")\n"
      ],
      "metadata": {
        "colab": {
          "base_uri": "https://localhost:8080/"
        },
        "id": "dIl7gBJFHPDK",
        "outputId": "06fd9c15-b552-4645-cf2f-f3eb30281e88"
      },
      "execution_count": 91,
      "outputs": [
        {
          "output_type": "stream",
          "name": "stdout",
          "text": [
            "Nodes:\n",
            "ID: Sam Altman, Type: Person\n",
            "ID: Openai, Type: Organization\n",
            "ID: Y Combinator, Type: Organization\n",
            "ID: Loopt, Type: Product\n",
            "ID: Green Dot Corporation, Type: Organization\n",
            "ID: Artificial Intelligence, Type: Concept\n",
            "ID: Technology, Type: Concept\n",
            "ID: Innovation, Type: Concept\n",
            "ID: Societal Impact, Type: Concept\n",
            "\n",
            "Relationships:\n",
            "Source: id='Sam Altman' type='Person', Target: id='Openai' type='Organization', Type: CEO\n",
            "Source: id='Sam Altman' type='Person', Target: id='Y Combinator' type='Organization', Type: PRESIDENT\n",
            "Source: id='Sam Altman' type='Person', Target: id='Loopt' type='Product', Type: CO-FOUNDER\n",
            "Source: id='Loopt' type='Product', Target: id='Green Dot Corporation' type='Organization', Type: ACQUIRED_BY\n",
            "Source: id='Openai' type='Organization', Target: id='Artificial Intelligence' type='Concept', Type: ADVANCES\n",
            "Source: id='Sam Altman' type='Person', Target: id='Technology' type='Concept', Type: INVOLVED_IN_DISCUSSIONS\n",
            "Source: id='Sam Altman' type='Person', Target: id='Innovation' type='Concept', Type: INVOLVED_IN_DISCUSSIONS\n",
            "Source: id='Sam Altman' type='Person', Target: id='Societal Impact' type='Concept', Type: INVOLVED_IN_DISCUSSIONS\n"
          ]
        }
      ]
    },
    {
      "cell_type": "code",
      "source": [
        "import networkx as nx\n",
        "import matplotlib.pyplot as plt\n",
        "\n",
        "def visualize_graph(graph_documents):\n",
        "    G = nx.DiGraph()\n",
        "\n",
        "    # Add nodes and edges to the graph\n",
        "    for doc in graph_documents:\n",
        "        for node in doc.nodes:\n",
        "            if node.id:  # Use only the id for labels\n",
        "                G.add_node(str(node.id), label=node.id)\n",
        "\n",
        "        for relationship in doc.relationships:\n",
        "            if relationship.source and relationship.target:  # Ensure relationships are valid\n",
        "                G.add_edge(str(relationship.source.id), str(relationship.target.id), label=relationship.type)\n",
        "\n",
        "    # Identify all nodes that are sources of relationships\n",
        "    source_nodes = set(relationship.source.id for doc in graph_documents for relationship in doc.relationships)\n",
        "\n",
        "    # Get positions for the nodes\n",
        "    pos = nx.spring_layout(G, k=2, iterations=100, center=(0.5, 0.5))  # Increase k value for more spacing\n",
        "\n",
        "    # Override positions for source nodes to be at the center\n",
        "    center_positions = [(0.5 + 0.5 * i, 0.5*i) for i in range(len(source_nodes))]  # Distribute center nodes slightly\n",
        "    for i, node in enumerate(source_nodes):\n",
        "        if node in pos:\n",
        "            pos[node] = center_positions[i % len(center_positions)]\n",
        "\n",
        "    # Nodes with sizes based on their degree, reduced size\n",
        "    node_sizes = [200 + 100 * G.degree(node) for node in G.nodes]\n",
        "    nx.draw_networkx_nodes(G, pos, node_size=node_sizes, node_color='skyblue')\n",
        "\n",
        "    # Ensure every node has a label, defaulting to the node ID\n",
        "    node_labels = {node: G.nodes[node].get('label', node) for node in G.nodes}\n",
        "\n",
        "    # Node labels with increased font size and padding\n",
        "    nx.draw_networkx_labels(G, pos, labels=node_labels, font_size=8, font_family='sans-serif',\n",
        "                            bbox=dict(facecolor='white', edgecolor='black', boxstyle='round,pad=0.3'))\n",
        "\n",
        "    # Edges\n",
        "    nx.draw_networkx_edges(G, pos, edgelist=G.edges(), width=2, edge_color='gray')\n",
        "\n",
        "    # Edge labels with increased font size\n",
        "    edge_labels = nx.get_edge_attributes(G, 'label')\n",
        "    nx.draw_networkx_edge_labels(G, pos, edge_labels=edge_labels, font_size=8, label_pos=0.5, font_color='red')\n",
        "\n",
        "    plt.figure(figsize=(15, 10))  # Increase figure size\n",
        "    plt.title(\"Knowledge Graph\", fontsize=20)\n",
        "    plt.axis('off')  # Hide axis\n",
        "    plt.show()\n",
        "\n",
        "# Visualize the extracted graph\n",
        "visualize_graph(graph_documents)\n"
      ],
      "metadata": {
        "colab": {
          "base_uri": "https://localhost:8080/",
          "height": 1000
        },
        "id": "ZwybwI5x_CkB",
        "outputId": "d010597e-8b39-4dff-b621-90f8f051d3f1"
      },
      "execution_count": 99,
      "outputs": [
        {
          "output_type": "display_data",
          "data": {
            "text/plain": [
              "<Figure size 640x480 with 1 Axes>"
            ],
            "image/png": "[encoded data removed]"
          },
          "metadata": {}
        },
        {
          "output_type": "display_data",
          "data": {
            "text/plain": [
              "<Figure size 1500x1000 with 1 Axes>"
            ],
            "image/png": "[encoded data removed]"
          },
          "metadata": {}
        }
      ]
    }
  ],
  "metadata": {
    "kernelspec": {
      "display_name": "Python 3",
      "name": "python3"
    },
    "language_info": {
      "codemirror_mode": {
        "name": "ipython",
        "version": 3
      },
      "file_extension": ".py",
      "mimetype": "text/x-python",
      "name": "python",
      "nbconvert_exporter": "python",
      "pygments_lexer": "ipython3",
      "version": "3.11.4"
    },
    "colab": {
      "provenance": []
    }
  },
  "nbformat": 4,
  "nbformat_minor": 0
}